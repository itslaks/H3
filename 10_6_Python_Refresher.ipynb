{
  "nbformat": 4,
  "nbformat_minor": 0,
  "metadata": {
    "colab": {
      "provenance": []
    },
    "kernelspec": {
      "name": "python3",
      "display_name": "Python 3"
    },
    "language_info": {
      "name": "python"
    }
  },
  "cells": [
    {
      "cell_type": "code",
      "execution_count": null,
      "metadata": {
        "id": "ABSZDn74GBph"
      },
      "outputs": [],
      "source": [
        "a=[\"apple\",\"banana\",\"cherry\"]"
      ]
    },
    {
      "cell_type": "code",
      "source": [
        "a.append(\"bread\")\n",
        "a"
      ],
      "metadata": {
        "colab": {
          "base_uri": "https://localhost:8080/"
        },
        "id": "aky72KD7GNxq",
        "outputId": "d21c44c8-271a-4836-ce93-6d16a08c0f14"
      },
      "execution_count": null,
      "outputs": [
        {
          "output_type": "execute_result",
          "data": {
            "text/plain": [
              "['apple', 'banana', 'cherry', 'bread']"
            ]
          },
          "metadata": {},
          "execution_count": 6
        }
      ]
    },
    {
      "cell_type": "code",
      "source": [
        "a.remove(\"banana\")\n",
        "a"
      ],
      "metadata": {
        "colab": {
          "base_uri": "https://localhost:8080/"
        },
        "id": "vzAV6tPcGTCG",
        "outputId": "932117b2-aaf5-41ff-c7b4-3d5a38bd64e8"
      },
      "execution_count": null,
      "outputs": [
        {
          "output_type": "execute_result",
          "data": {
            "text/plain": [
              "['apple', 'cherry', 'bread']"
            ]
          },
          "metadata": {},
          "execution_count": 7
        }
      ]
    },
    {
      "cell_type": "code",
      "source": [
        "\"cherry\" in a"
      ],
      "metadata": {
        "colab": {
          "base_uri": "https://localhost:8080/"
        },
        "id": "yPc-Apk6GY-z",
        "outputId": "35fa2f6b-e46d-45b2-eb57-8e7905854596"
      },
      "execution_count": null,
      "outputs": [
        {
          "output_type": "execute_result",
          "data": {
            "text/plain": [
              "True"
            ]
          },
          "metadata": {},
          "execution_count": 8
        }
      ]
    },
    {
      "cell_type": "code",
      "source": [
        "len(a)"
      ],
      "metadata": {
        "colab": {
          "base_uri": "https://localhost:8080/"
        },
        "id": "FmDM008RG4Q6",
        "outputId": "30686cba-8de9-4993-be0e-0b3c589ac02d"
      },
      "execution_count": null,
      "outputs": [
        {
          "output_type": "execute_result",
          "data": {
            "text/plain": [
              "3"
            ]
          },
          "metadata": {},
          "execution_count": 9
        }
      ]
    },
    {
      "cell_type": "code",
      "source": [
        "tuple=(120,\"abcd\",786,0.2,'john')\n",
        "print(tuple)\n",
        "print(tuple[0])\n",
        "print(tuple[1:3])\n",
        "print(tuple[2:])\n",
        "print(tuple * 2)"
      ],
      "metadata": {
        "colab": {
          "base_uri": "https://localhost:8080/"
        },
        "id": "JQUTQGiYG6vw",
        "outputId": "3ad83080-2ad7-4ccf-ed30-ced20208ac28"
      },
      "execution_count": null,
      "outputs": [
        {
          "output_type": "stream",
          "name": "stdout",
          "text": [
            "(120, 'abcd', 786, 0.2, 'john')\n",
            "120\n",
            "('abcd', 786)\n",
            "(786, 0.2, 'john')\n",
            "(120, 'abcd', 786, 0.2, 'john', 120, 'abcd', 786, 0.2, 'john')\n"
          ]
        }
      ]
    },
    {
      "cell_type": "code",
      "source": [
        "students = [\n",
        "    (\"Alice\", [85, 78, 92]),\n",
        "    (\"Bob\", [66, 74, 81]),\n",
        "    (\"Charlie\", [90, 88, 85])\n",
        "]"
      ],
      "metadata": {
        "id": "ek1sj8YxLP_s"
      },
      "execution_count": null,
      "outputs": []
    },
    {
      "cell_type": "code",
      "source": [
        "for i,j in students:\n",
        "  avg=sum(j)/len(j)\n",
        "  print(i,avg)\n"
      ],
      "metadata": {
        "colab": {
          "base_uri": "https://localhost:8080/"
        },
        "id": "QAgWOk-iRcQ7",
        "outputId": "524c7a34-c58e-4625-d1ba-1aa8bdce2928"
      },
      "execution_count": null,
      "outputs": [
        {
          "output_type": "stream",
          "name": "stdout",
          "text": [
            "Alice 85.0\n",
            "Bob 73.66666666666667\n",
            "Charlie 87.66666666666667\n"
          ]
        }
      ]
    },
    {
      "cell_type": "code",
      "source": [
        "highavg=0\n",
        "topper=\"\"\n",
        "for i in students:\n",
        "  name = i[0]\n",
        "  marks = i[1]\n",
        "  avg=sum(marks)/len(marks)\n",
        "  if avg>highavg:\n",
        "    highavg=avg\n",
        "    topper=name\n",
        "print(topper,highavg)"
      ],
      "metadata": {
        "colab": {
          "base_uri": "https://localhost:8080/"
        },
        "id": "nizWgQjtSy9o",
        "outputId": "d8c50e54-cf19-4dd4-a2c8-93e54ded19a1"
      },
      "execution_count": null,
      "outputs": [
        {
          "output_type": "stream",
          "name": "stdout",
          "text": [
            "Charlie 87.66666666666667\n"
          ]
        }
      ]
    },
    {
      "cell_type": "code",
      "source": [
        "students.append((\"David\", [70, 75, 80]))"
      ],
      "metadata": {
        "id": "Pg761P4jUFUR"
      },
      "execution_count": null,
      "outputs": []
    },
    {
      "cell_type": "code",
      "source": [
        "for i in range(len(students)):\n",
        "    if students[i][0] == \"Bob\":\n",
        "        students[i][1][1] = 79\n",
        "        break"
      ],
      "metadata": {
        "id": "31OMC75hUPhj"
      },
      "execution_count": null,
      "outputs": []
    },
    {
      "cell_type": "code",
      "source": [
        "for i in students:\n",
        "    print(i)"
      ],
      "metadata": {
        "colab": {
          "base_uri": "https://localhost:8080/"
        },
        "id": "TilTaorcUoLh",
        "outputId": "17a8eec2-f3c8-4b00-fd3b-dd3e4a4e716c"
      },
      "execution_count": null,
      "outputs": [
        {
          "output_type": "stream",
          "name": "stdout",
          "text": [
            "('Alice', [85, 78, 92])\n",
            "('Bob', [66, 79, 81])\n",
            "('Charlie', [90, 88, 85])\n",
            "('David', [70, 75, 80])\n"
          ]
        }
      ]
    },
    {
      "cell_type": "code",
      "source": [
        "dict={}\n",
        "type(dict)"
      ],
      "metadata": {
        "colab": {
          "base_uri": "https://localhost:8080/"
        },
        "id": "V_IwYwaPVEft",
        "outputId": "71e0d2a1-73ce-4dbe-cf82-81a7f28f5138"
      },
      "execution_count": null,
      "outputs": [
        {
          "output_type": "execute_result",
          "data": {
            "text/plain": [
              "dict"
            ]
          },
          "metadata": {},
          "execution_count": 22
        }
      ]
    },
    {
      "cell_type": "code",
      "source": [
        "web={'day':1,'visitors':20,'bounce':10}\n",
        "web"
      ],
      "metadata": {
        "colab": {
          "base_uri": "https://localhost:8080/"
        },
        "id": "pQaWyKtyY60_",
        "outputId": "75b0421b-e430-4ec7-e747-ee0fd44216ae"
      },
      "execution_count": null,
      "outputs": [
        {
          "output_type": "execute_result",
          "data": {
            "text/plain": [
              "{'day': 1, 'visitors': 20, 'bounce': 10}"
            ]
          },
          "metadata": {},
          "execution_count": 23
        }
      ]
    },
    {
      "cell_type": "code",
      "source": [
        "print(web.keys())"
      ],
      "metadata": {
        "colab": {
          "base_uri": "https://localhost:8080/"
        },
        "id": "nBNfQW6EZnP5",
        "outputId": "9becfb6c-346e-4c2e-a9f5-9cce182980e1"
      },
      "execution_count": null,
      "outputs": [
        {
          "output_type": "stream",
          "name": "stdout",
          "text": [
            "dict_keys(['day', 'visitors', 'bounce'])\n"
          ]
        }
      ]
    },
    {
      "cell_type": "code",
      "source": [
        "print(web.values())"
      ],
      "metadata": {
        "colab": {
          "base_uri": "https://localhost:8080/"
        },
        "id": "9OjJ4K-sZqQP",
        "outputId": "063b5e75-0c76-491d-a3d7-f5662d562550"
      },
      "execution_count": null,
      "outputs": [
        {
          "output_type": "stream",
          "name": "stdout",
          "text": [
            "dict_values([1, 20, 10])\n"
          ]
        }
      ]
    },
    {
      "cell_type": "code",
      "source": [
        "web.items()"
      ],
      "metadata": {
        "colab": {
          "base_uri": "https://localhost:8080/"
        },
        "id": "9KNk3aQXZtJN",
        "outputId": "155b136b-3653-47bc-d12e-f88b18c875ba"
      },
      "execution_count": null,
      "outputs": [
        {
          "output_type": "execute_result",
          "data": {
            "text/plain": [
              "dict_items([('day', 1), ('visitors', 20), ('bounce', 10)])"
            ]
          },
          "metadata": {},
          "execution_count": 26
        }
      ]
    },
    {
      "cell_type": "code",
      "source": [
        "# prompt: more functions of set\n",
        "\n",
        "set1 = {\"apple\", \"banana\", \"cherry\"}\n",
        "set2 = {\"google\", \"microsoft\", \"apple\"}\n",
        "\n",
        "# Union of sets\n",
        "set3 = set1.union(set2)\n",
        "print(\"Union:\", set3)\n",
        "\n",
        "# Intersection of sets\n",
        "set4 = set1.intersection(set2)\n",
        "print(\"Intersection:\", set4)\n",
        "\n",
        "# Difference of sets (elements in set1 but not in set2)\n",
        "set5 = set1.difference(set2)\n",
        "print(\"Difference (set1 - set2):\", set5)\n",
        "\n",
        "# Symmetric difference of sets (elements in either set but not in both)\n",
        "set6 = set1.symmetric_difference(set2)\n",
        "print(\"Symmetric difference:\", set6)\n",
        "\n",
        "# Adding elements to a set\n",
        "set1.add(\"orange\")\n",
        "print(\"After adding orange:\", set1)\n",
        "\n",
        "# Removing elements from a set (discards error if element is not present)\n",
        "set1.discard(\"banana\")\n",
        "print(\"After discarding banana:\", set1)\n",
        "\n",
        "# Removing elements from a set (raises error if element is not present)\n",
        "try:\n",
        "    set1.remove(\"kiwi\")\n",
        "except KeyError:\n",
        "    print(\"Cannot remove 'kiwi' as it's not in the set.\")\n",
        "\n",
        "# Check if a set is a subset of another set\n",
        "print(\"Is set1 a subset of set3?\", set1.issubset(set3))\n",
        "\n",
        "# Check if a set is a superset of another set\n",
        "print(\"Is set3 a superset of set1?\", set3.issuperset(set1))\n",
        "\n",
        "# Pop an arbitrary element from the set\n",
        "popped_element = set1.pop()\n",
        "print(\"Popped element:\", popped_element)\n",
        "print(\"Set after pop:\", set1)\n",
        "\n",
        "# Clear all elements from a set\n",
        "set1.clear()\n",
        "print(\"Set after clear:\", set1)\n",
        "\n",
        "# Delete a set\n",
        "# del set1\n",
        "# print(set1) # This would raise a NameError as the set is deleted"
      ],
      "metadata": {
        "colab": {
          "base_uri": "https://localhost:8080/"
        },
        "id": "mgXYzYs3ZvY9",
        "outputId": "c01181b5-d75e-48be-dc37-6c49b69edb4a"
      },
      "execution_count": null,
      "outputs": [
        {
          "output_type": "stream",
          "name": "stdout",
          "text": [
            "Union: {'google', 'apple', 'microsoft', 'cherry', 'banana'}\n",
            "Intersection: {'apple'}\n",
            "Difference (set1 - set2): {'cherry', 'banana'}\n",
            "Symmetric difference: {'google', 'microsoft', 'cherry', 'banana'}\n",
            "After adding orange: {'apple', 'cherry', 'banana', 'orange'}\n",
            "After discarding banana: {'apple', 'cherry', 'orange'}\n",
            "Cannot remove 'kiwi' as it's not in the set.\n",
            "Is set1 a subset of set3? False\n",
            "Is set3 a superset of set1? False\n",
            "Popped element: apple\n",
            "Set after pop: {'cherry', 'orange'}\n",
            "Set after clear: set()\n"
          ]
        }
      ]
    },
    {
      "cell_type": "code",
      "source": [
        "for i in range(10):\n",
        "  print(f'2*{i+1}={2*i+1}')"
      ],
      "metadata": {
        "colab": {
          "base_uri": "https://localhost:8080/"
        },
        "id": "3XLKfvTMerY1",
        "outputId": "a455839b-96dd-4811-df9a-65bfaa6efdb1"
      },
      "execution_count": null,
      "outputs": [
        {
          "output_type": "stream",
          "name": "stdout",
          "text": [
            "2*1=1\n",
            "2*2=3\n",
            "2*3=5\n",
            "2*4=7\n",
            "2*5=9\n",
            "2*6=11\n",
            "2*7=13\n",
            "2*8=15\n",
            "2*9=17\n",
            "2*10=19\n"
          ]
        }
      ]
    },
    {
      "cell_type": "code",
      "source": [
        "a=[\"mango\",\"apple\",\"banana\"]\n",
        "for i in a:\n",
        "  print(i,end=\" | \")"
      ],
      "metadata": {
        "colab": {
          "base_uri": "https://localhost:8080/"
        },
        "id": "j7XsdgyrgHhO",
        "outputId": "9b577486-0888-4b8e-ef14-f254a8b06c7c"
      },
      "execution_count": null,
      "outputs": [
        {
          "output_type": "stream",
          "name": "stdout",
          "text": [
            "mango | apple | banana | "
          ]
        }
      ]
    },
    {
      "cell_type": "code",
      "source": [
        "a=int(input(\"Enter 1st no:\"))\n",
        "b=int(input(\"Enter 2nd no:\"))\n",
        "while True:\n",
        "  opr=input(\"Enter the opeator:\")\n",
        "  if opr=='+':\n",
        "    print(a+b)\n",
        "  elif opr=='-':\n",
        "    print(a-b)\n",
        "  elif opr=='*':\n",
        "    print(a*b)\n",
        "  elif opr=='/':\n",
        "    print(a/b)\n",
        "  else:\n",
        "    print(\"Enter valid choice!!!\")\n",
        "    break"
      ],
      "metadata": {
        "colab": {
          "base_uri": "https://localhost:8080/"
        },
        "id": "G2bryGQ5jXcy",
        "outputId": "0d8cb277-85c7-401a-9d9c-5af49d643861"
      },
      "execution_count": null,
      "outputs": [
        {
          "output_type": "stream",
          "name": "stdout",
          "text": [
            "Enter 1st no:10\n",
            "Enter 2nd no:9\n",
            "Enter the opeator:+\n",
            "19\n",
            "Enter the opeator:-\n",
            "1\n",
            "Enter the opeator:/\n",
            "1.1111111111111112\n",
            "Enter the opeator:*\n",
            "90\n",
            "Enter the opeator:o\n",
            "Enter valid choice!!!\n"
          ]
        }
      ]
    },
    {
      "cell_type": "code",
      "source": [
        "import numpy as np"
      ],
      "metadata": {
        "id": "hXMYDJpunFLd"
      },
      "execution_count": null,
      "outputs": []
    },
    {
      "cell_type": "code",
      "source": [
        "a=np.array([[[1,2],[3,4]],[[5,6],[7,8]]])\n",
        "a"
      ],
      "metadata": {
        "colab": {
          "base_uri": "https://localhost:8080/"
        },
        "id": "u6OTHSOWBgjB",
        "outputId": "cf3ea958-51a1-4504-cda4-8534d100a4b1"
      },
      "execution_count": null,
      "outputs": [
        {
          "output_type": "execute_result",
          "data": {
            "text/plain": [
              "array([[[1, 2],\n",
              "        [3, 4]],\n",
              "\n",
              "       [[5, 6],\n",
              "        [7, 8]]])"
            ]
          },
          "metadata": {},
          "execution_count": 34
        }
      ]
    },
    {
      "cell_type": "code",
      "source": [
        "a.shape"
      ],
      "metadata": {
        "colab": {
          "base_uri": "https://localhost:8080/"
        },
        "id": "g1_8fNURE2vD",
        "outputId": "81545268-8700-40cc-b6c3-447ff37a97e8"
      },
      "execution_count": null,
      "outputs": [
        {
          "output_type": "execute_result",
          "data": {
            "text/plain": [
              "(2, 2, 2)"
            ]
          },
          "metadata": {},
          "execution_count": 35
        }
      ]
    },
    {
      "cell_type": "code",
      "source": [
        "np.reshape(a,(4,2))"
      ],
      "metadata": {
        "colab": {
          "base_uri": "https://localhost:8080/"
        },
        "id": "wEdnNs_yButJ",
        "outputId": "47edd064-a7e4-4051-d6f2-719a330d5162"
      },
      "execution_count": null,
      "outputs": [
        {
          "output_type": "execute_result",
          "data": {
            "text/plain": [
              "array([[1, 2],\n",
              "       [3, 4],\n",
              "       [5, 6],\n",
              "       [7, 8]])"
            ]
          },
          "metadata": {},
          "execution_count": 36
        }
      ]
    },
    {
      "cell_type": "code",
      "source": [
        "np.reshape(a,(1,8))"
      ],
      "metadata": {
        "colab": {
          "base_uri": "https://localhost:8080/"
        },
        "id": "i3KHh5oBE5zZ",
        "outputId": "ed395ceb-99ce-4421-a8b0-910af4045e7b"
      },
      "execution_count": null,
      "outputs": [
        {
          "output_type": "execute_result",
          "data": {
            "text/plain": [
              "array([[1, 2, 3, 4, 5, 6, 7, 8]])"
            ]
          },
          "metadata": {},
          "execution_count": 37
        }
      ]
    },
    {
      "cell_type": "code",
      "source": [
        "np.reshape(a,(8,1))"
      ],
      "metadata": {
        "colab": {
          "base_uri": "https://localhost:8080/"
        },
        "id": "q76WC3w2FAUB",
        "outputId": "3df4ded3-df76-495c-b5e2-198812faf082"
      },
      "execution_count": null,
      "outputs": [
        {
          "output_type": "execute_result",
          "data": {
            "text/plain": [
              "array([[1],\n",
              "       [2],\n",
              "       [3],\n",
              "       [4],\n",
              "       [5],\n",
              "       [6],\n",
              "       [7],\n",
              "       [8]])"
            ]
          },
          "metadata": {},
          "execution_count": 38
        }
      ]
    },
    {
      "cell_type": "code",
      "source": [],
      "metadata": {
        "id": "sppAqAJJFHSh"
      },
      "execution_count": null,
      "outputs": []
    }
  ]
}