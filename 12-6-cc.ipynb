{
 "cells": [
  {
   "cell_type": "code",
   "execution_count": 52,
   "id": "2cba9269",
   "metadata": {},
   "outputs": [],
   "source": [
    "import pandas as pd\n",
    "import numpy as np"
   ]
  },
  {
   "cell_type": "code",
   "execution_count": 53,
   "id": "3ad919c5",
   "metadata": {},
   "outputs": [],
   "source": [
    "# 1. Load both CSV files into separate Pandas DataFrames\n",
    "customers_df = pd.read_csv(\"customers.csv\")\n",
    "sales_df = pd.read_csv(\"sales.csv\")\n"
   ]
  },
  {
   "cell_type": "code",
   "execution_count": 55,
   "id": "3e1d463e",
   "metadata": {},
   "outputs": [
    {
     "name": "stdout",
     "output_type": "stream",
     "text": [
      "Customers - First 5 rows:\n",
      "   customer_id                   name                        email  \\\n",
      "0         1001           Norma Fisher          ysullivan@yahoo.com   \n",
      "1         1002           Susan Wagner  katelynmontgomery@yahoo.com   \n",
      "2         1003  Dr. Stephanie Collins  thomas15@stewart-bowman.com   \n",
      "3         1004           Joseph Brown    cortezraymond@garrett.com   \n",
      "4         1005              Amy Stark         lindathomas@west.net   \n",
      "\n",
      "                    country signup_date  \n",
      "0                   Lesotho  2023-12-20  \n",
      "1  United States of America  2024-09-16  \n",
      "2                    Mexico  2024-06-22  \n",
      "3                   Ecuador  2023-10-30  \n",
      "4                 Venezuela  2024-07-11  \n",
      "\n",
      "Customers - Last 5 rows:\n",
      "     customer_id             name                              email  \\\n",
      "195         1196  Robin Schroeder  robersonjulie@phillips-daniel.biz   \n",
      "196         1197    Madison Hicks         williamsalexis@beasley.biz   \n",
      "197         1198      Emily Weiss            vschneider@williams.com   \n",
      "198         1199     Brandi Simon                isullivan@gmail.com   \n",
      "199         1200     Brianna Pugh             briannajackson@ray.com   \n",
      "\n",
      "         country signup_date  \n",
      "195      Estonia  2023-08-14  \n",
      "196     Slovenia  2024-06-28  \n",
      "197    Australia  2024-12-28  \n",
      "198        Samoa  2024-05-04  \n",
      "199  El Salvador  2023-05-06  \n",
      "\n",
      "Sales - First 5 rows:\n",
      "   order_id  customer_id  order_date     product     category  quantity  \\\n",
      "0      5001         1071  2023-09-19      Tablet  Electronics         4   \n",
      "1      5002         1035  2022-10-01  Headphones  Accessories         1   \n",
      "2      5003         1093  2023-04-01      Webcam  Accessories         1   \n",
      "3      5004         1057  2023-07-12  Smartphone  Electronics         1   \n",
      "4      5005         1100  2023-03-13      Laptop  Electronics         2   \n",
      "\n",
      "   price_per_unit  \n",
      "0          399.00  \n",
      "1           89.99  \n",
      "2           59.00  \n",
      "3          599.00  \n",
      "4          789.99  \n",
      "\n",
      "Sales - Last 5 rows:\n",
      "     order_id  customer_id  order_date   product     category  quantity  \\\n",
      "195      5196         1011  2022-05-06   Printer  Electronics         3   \n",
      "196      5197         1045  2022-12-11  Keyboard  Accessories         1   \n",
      "197      5198         1052  2022-12-05    Laptop  Electronics         4   \n",
      "198      5199         1051  2023-08-02     Mouse  Accessories         2   \n",
      "199      5200         1008  2023-01-05   Charger  Accessories         5   \n",
      "\n",
      "     price_per_unit  \n",
      "195          199.99  \n",
      "196           49.99  \n",
      "197          789.99  \n",
      "198           19.99  \n",
      "199           25.50  \n"
     ]
    }
   ],
   "source": [
    "#2. Display the first 5 and last 5 rows of each DataFrame\n",
    "print(\"Customers - First 5 rows:\")\n",
    "print(customers_df.head())\n",
    "\n",
    "print(\"\\nCustomers - Last 5 rows:\")\n",
    "print(customers_df.tail())\n",
    "\n",
    "print(\"\\nSales - First 5 rows:\")\n",
    "print(sales_df.head())\n",
    "\n",
    "print(\"\\nSales - Last 5 rows:\")\n",
    "print(sales_df.tail())\n"
   ]
  },
  {
   "cell_type": "code",
   "execution_count": 56,
   "id": "c29431a0",
   "metadata": {},
   "outputs": [
    {
     "name": "stdout",
     "output_type": "stream",
     "text": [
      "Customers Info:\n",
      "<class 'pandas.core.frame.DataFrame'>\n",
      "RangeIndex: 200 entries, 0 to 199\n",
      "Data columns (total 5 columns):\n",
      " #   Column       Non-Null Count  Dtype \n",
      "---  ------       --------------  ----- \n",
      " 0   customer_id  200 non-null    int64 \n",
      " 1   name         200 non-null    object\n",
      " 2   email        200 non-null    object\n",
      " 3   country      200 non-null    object\n",
      " 4   signup_date  200 non-null    object\n",
      "dtypes: int64(1), object(4)\n",
      "memory usage: 7.9+ KB\n",
      "None\n",
      "\n",
      "Missing values:\n",
      " customer_id    0\n",
      "name           0\n",
      "email          0\n",
      "country        0\n",
      "signup_date    0\n",
      "dtype: int64\n",
      "\n",
      "Sales Info:\n",
      "<class 'pandas.core.frame.DataFrame'>\n",
      "RangeIndex: 200 entries, 0 to 199\n",
      "Data columns (total 7 columns):\n",
      " #   Column          Non-Null Count  Dtype  \n",
      "---  ------          --------------  -----  \n",
      " 0   order_id        200 non-null    int64  \n",
      " 1   customer_id     200 non-null    int64  \n",
      " 2   order_date      200 non-null    object \n",
      " 3   product         200 non-null    object \n",
      " 4   category        200 non-null    object \n",
      " 5   quantity        200 non-null    int64  \n",
      " 6   price_per_unit  200 non-null    float64\n",
      "dtypes: float64(1), int64(3), object(3)\n",
      "memory usage: 11.1+ KB\n",
      "None\n",
      "\n",
      "Missing values:\n",
      " order_id          0\n",
      "customer_id       0\n",
      "order_date        0\n",
      "product           0\n",
      "category          0\n",
      "quantity          0\n",
      "price_per_unit    0\n",
      "dtype: int64\n"
     ]
    }
   ],
   "source": [
    "#3. Show column names, data types, and check for null values\n",
    "print(\"Customers Info:\")\n",
    "print(customers_df.info())\n",
    "print(\"\\nMissing values:\\n\", customers_df.isnull().sum())\n",
    "\n",
    "print(\"\\nSales Info:\")\n",
    "print(sales_df.info())\n",
    "print(\"\\nMissing values:\\n\", sales_df.isnull().sum())\n"
   ]
  },
  {
   "cell_type": "code",
   "execution_count": 57,
   "id": "8e766d3c",
   "metadata": {},
   "outputs": [
    {
     "name": "stdout",
     "output_type": "stream",
     "text": [
      "Converted 'signup_date' and 'order_date' to datetime.\n"
     ]
    }
   ],
   "source": [
    "# 4. Convert the date columns to datetime\n",
    "customers_df['signup_date'] = pd.to_datetime(customers_df['signup_date'])\n",
    "sales_df['order_date'] = pd.to_datetime(sales_df['order_date'])\n",
    "print(\"Converted 'signup_date' and 'order_date' to datetime.\")"
   ]
  },
  {
   "cell_type": "code",
   "execution_count": 58,
   "id": "27813523",
   "metadata": {},
   "outputs": [
    {
     "name": "stdout",
     "output_type": "stream",
     "text": [
      "Sales with total_amount column:\n",
      "   order_id  customer_id order_date     product     category  quantity  \\\n",
      "0      5001         1071 2023-09-19      Tablet  Electronics         4   \n",
      "1      5002         1035 2022-10-01  Headphones  Accessories         1   \n",
      "2      5003         1093 2023-04-01      Webcam  Accessories         1   \n",
      "3      5004         1057 2023-07-12  Smartphone  Electronics         1   \n",
      "4      5005         1100 2023-03-13      Laptop  Electronics         2   \n",
      "\n",
      "   price_per_unit  total_amount  \n",
      "0          399.00       1596.00  \n",
      "1           89.99         89.99  \n",
      "2           59.00         59.00  \n",
      "3          599.00        599.00  \n",
      "4          789.99       1579.98  \n"
     ]
    }
   ],
   "source": [
    "#5. Calculate total revenue and create 'total_amount'\n",
    "sales_df['total_amount'] = sales_df['quantity'] * sales_df['price_per_unit']\n",
    "print(\"Sales with total_amount column:\")\n",
    "print(sales_df.head())"
   ]
  },
  {
   "cell_type": "code",
   "execution_count": 59,
   "id": "78343d8a",
   "metadata": {},
   "outputs": [
    {
     "name": "stdout",
     "output_type": "stream",
     "text": [
      "Merged DataFrame:\n",
      "   order_id  customer_id order_date  product     category  quantity  \\\n",
      "0      5001         1071 2023-09-19   Tablet  Electronics         4   \n",
      "1      5021         1071 2022-11-30   Laptop  Electronics         4   \n",
      "2      5023         1071 2022-04-22  Charger  Accessories         5   \n",
      "3      5084         1071 2023-12-17  Monitor  Electronics         5   \n",
      "4      5153         1071 2022-09-30   Tablet  Electronics         4   \n",
      "\n",
      "   price_per_unit  total_amount           name                          email  \\\n",
      "0          399.00       1596.00  Gerald Garcia  marcus75@johnson-williams.com   \n",
      "1          789.99       3159.96  Gerald Garcia  marcus75@johnson-williams.com   \n",
      "2           25.50        127.50  Gerald Garcia  marcus75@johnson-williams.com   \n",
      "3          299.49       1497.45  Gerald Garcia  marcus75@johnson-williams.com   \n",
      "4          399.00       1596.00  Gerald Garcia  marcus75@johnson-williams.com   \n",
      "\n",
      "   country signup_date  \n",
      "0  Belgium  2023-05-03  \n",
      "1  Belgium  2023-05-03  \n",
      "2  Belgium  2023-05-03  \n",
      "3  Belgium  2023-05-03  \n",
      "4  Belgium  2023-05-03  \n"
     ]
    }
   ],
   "source": [
    "#6. Merge datasets on customer_id\n",
    "merged_df = pd.merge(sales_df, customers_df, on='customer_id', how='inner')\n",
    "print(\"Merged DataFrame:\")\n",
    "print(merged_df.head())"
   ]
  },
  {
   "cell_type": "code",
   "execution_count": 60,
   "id": "d8809149",
   "metadata": {},
   "outputs": [
    {
     "name": "stdout",
     "output_type": "stream",
     "text": [
      "Top 5 Customers by Spending:\n",
      "customer_id  name               \n",
      "1100         Nicholas Wright PhD    8003.79\n",
      "1071         Gerald Garcia          7976.91\n",
      "1081         Kevin Fuller           7442.95\n",
      "1009         Joanne Keller          7379.88\n",
      "1052         Michael Anderson       5644.95\n",
      "Name: total_amount, dtype: float64\n"
     ]
    }
   ],
   "source": [
    "#7. Top 5 customers by total spending\n",
    "top5 = merged_df.groupby(['customer_id', 'name'])['total_amount'].sum().sort_values(ascending=False).head(5)\n",
    "print(\"Top 5 Customers by Spending:\")\n",
    "print(top5)"
   ]
  },
  {
   "cell_type": "code",
   "execution_count": 61,
   "id": "ca0de3af",
   "metadata": {},
   "outputs": [
    {
     "name": "stdout",
     "output_type": "stream",
     "text": [
      "Customer Count by Country:\n"
     ]
    },
    {
     "data": {
      "text/plain": [
       "Burkina Faso    4\n",
       "Hungary         4\n",
       "Zambia          4\n",
       "Slovenia        4\n",
       "Congo           3\n",
       "               ..\n",
       "Lithuania       1\n",
       "Micronesia      1\n",
       "Cuba            1\n",
       "Albania         1\n",
       "El Salvador     1\n",
       "Name: country, Length: 132, dtype: int64"
      ]
     },
     "execution_count": 61,
     "metadata": {},
     "output_type": "execute_result"
    }
   ],
   "source": [
    "#8. Count of customers by country\n",
    "print(\"Customer Count by Country:\")\n",
    "customers_df['country'].value_counts()"
   ]
  },
  {
   "cell_type": "code",
   "execution_count": 62,
   "id": "b9026c73",
   "metadata": {},
   "outputs": [
    {
     "name": "stdout",
     "output_type": "stream",
     "text": [
      "Average Order Value per Customer:\n"
     ]
    },
    {
     "data": {
      "text/plain": [
       "customer_id\n",
       "1001    3159.960000\n",
       "1002    1788.310000\n",
       "1004     109.490000\n",
       "1005     635.316667\n",
       "1006     636.750000\n",
       "Name: total_amount, dtype: float64"
      ]
     },
     "execution_count": 62,
     "metadata": {},
     "output_type": "execute_result"
    }
   ],
   "source": [
    "#9. Average order value per customer\n",
    "avg_order_value = merged_df.groupby('customer_id')['total_amount'].mean()\n",
    "print(\"Average Order Value per Customer:\")\n",
    "avg_order_value.head()"
   ]
  },
  {
   "cell_type": "code",
   "execution_count": 63,
   "id": "ae98f9c9",
   "metadata": {},
   "outputs": [
    {
     "name": "stdout",
     "output_type": "stream",
     "text": [
      "Removed duplicates. Current shape:\n",
      "Customers: (200, 5)\n",
      "Sales: (200, 8)\n"
     ]
    }
   ],
   "source": [
    "#10. Remove duplicates from both datasets\n",
    "customers_df.drop_duplicates(inplace=True)\n",
    "sales_df.drop_duplicates(inplace=True)\n",
    "print(\"Removed duplicates. Current shape:\")\n",
    "print(\"Customers:\", customers_df.shape)\n",
    "print(\"Sales:\", sales_df.shape)\n"
   ]
  },
  {
   "cell_type": "code",
   "execution_count": 64,
   "id": "250a12b5",
   "metadata": {},
   "outputs": [
    {
     "name": "stdout",
     "output_type": "stream",
     "text": [
      "Sales after removing invalid rows:\n",
      "   order_id  customer_id order_date     product     category  quantity  \\\n",
      "0      5001         1071 2023-09-19      Tablet  Electronics         4   \n",
      "1      5002         1035 2022-10-01  Headphones  Accessories         1   \n",
      "2      5003         1093 2023-04-01      Webcam  Accessories         1   \n",
      "3      5004         1057 2023-07-12  Smartphone  Electronics         1   \n",
      "4      5005         1100 2023-03-13      Laptop  Electronics         2   \n",
      "\n",
      "   price_per_unit  total_amount  \n",
      "0          399.00       1596.00  \n",
      "1           89.99         89.99  \n",
      "2           59.00         59.00  \n",
      "3          599.00        599.00  \n",
      "4          789.99       1579.98  \n"
     ]
    }
   ],
   "source": [
    "# 11. Handle missing/invalid data\n",
    "sales_df = sales_df[(sales_df['quantity'] > 0) & (sales_df['price_per_unit'] > 0)]\n",
    "print(\"Sales after removing invalid rows:\")\n",
    "print(sales_df.head())"
   ]
  },
  {
   "cell_type": "code",
   "execution_count": 65,
   "id": "34e69e0c",
   "metadata": {},
   "outputs": [
    {
     "name": "stdout",
     "output_type": "stream",
     "text": [
      "Category Summary:\n",
      "             total_quantity_sold  total_revenue\n",
      "category                                       \n",
      "Accessories                  325       14257.55\n",
      "Electronics                  281      128645.31\n"
     ]
    }
   ],
   "source": [
    "#12. Group by category: quantity sold and revenue\n",
    "category_summary = merged_df.groupby('category').agg(\n",
    "    total_quantity_sold=('quantity', 'sum'),\n",
    "    total_revenue=('total_amount', 'sum')\n",
    ")\n",
    "print(\"Category Summary:\")\n",
    "print(category_summary)\n"
   ]
  },
  {
   "cell_type": "code",
   "execution_count": 66,
   "id": "e1f053c9",
   "metadata": {},
   "outputs": [
    {
     "name": "stdout",
     "output_type": "stream",
     "text": [
      "Monthly Sales:\n",
      "order_year_month\n",
      "2022-01     4180.77\n",
      "2022-02     8713.20\n",
      "2022-03     5867.79\n",
      "2022-04     4738.39\n",
      "2022-05     7510.29\n",
      "2022-06     5971.85\n",
      "2022-07     7814.84\n",
      "2022-08    11263.29\n",
      "2022-09     5995.33\n",
      "2022-10     5614.86\n",
      "2022-11     5696.31\n",
      "2022-12     6313.38\n",
      "2023-01     7512.38\n",
      "2023-02     3972.42\n",
      "2023-03     5026.39\n",
      "2023-04     5367.36\n",
      "2023-05     4687.38\n",
      "2023-06     3586.39\n",
      "2023-07     6722.90\n",
      "2023-08     3810.35\n",
      "2023-09     5275.88\n",
      "2023-10     8844.39\n",
      "2023-11     4165.90\n",
      "2023-12     4250.82\n",
      "Freq: M, Name: total_amount, dtype: float64\n"
     ]
    }
   ],
   "source": [
    "#13. Extract year and month, analyze monthly sales\n",
    "merged_df['order_year_month'] = merged_df['order_date'].dt.to_period('M')\n",
    "monthly_sales = merged_df.groupby('order_year_month')['total_amount'].sum()\n",
    "print(\"Monthly Sales:\")\n",
    "print(monthly_sales)\n"
   ]
  },
  {
   "cell_type": "code",
   "execution_count": 67,
   "id": "9b62a4ca",
   "metadata": {},
   "outputs": [
    {
     "data": {
      "text/html": [
       "<div>\n",
       "<style scoped>\n",
       "    .dataframe tbody tr th:only-of-type {\n",
       "        vertical-align: middle;\n",
       "    }\n",
       "\n",
       "    .dataframe tbody tr th {\n",
       "        vertical-align: top;\n",
       "    }\n",
       "\n",
       "    .dataframe thead th {\n",
       "        text-align: right;\n",
       "    }\n",
       "</style>\n",
       "<table border=\"1\" class=\"dataframe\">\n",
       "  <thead>\n",
       "    <tr style=\"text-align: right;\">\n",
       "      <th></th>\n",
       "      <th>customer_id</th>\n",
       "      <th>name</th>\n",
       "      <th>email</th>\n",
       "      <th>country</th>\n",
       "      <th>signup_date</th>\n",
       "    </tr>\n",
       "  </thead>\n",
       "  <tbody>\n",
       "    <tr>\n",
       "      <th>31</th>\n",
       "      <td>1032</td>\n",
       "      <td>Bradley Robinson</td>\n",
       "      <td>ryanhoward@gmail.com</td>\n",
       "      <td>Swaziland</td>\n",
       "      <td>2025-06-06</td>\n",
       "    </tr>\n",
       "    <tr>\n",
       "      <th>91</th>\n",
       "      <td>1092</td>\n",
       "      <td>Michael Bryant</td>\n",
       "      <td>dreed@nelson.com</td>\n",
       "      <td>Pitcairn Islands</td>\n",
       "      <td>2025-05-03</td>\n",
       "    </tr>\n",
       "    <tr>\n",
       "      <th>93</th>\n",
       "      <td>1094</td>\n",
       "      <td>Melanie Gomez</td>\n",
       "      <td>meghan09@cunningham.com</td>\n",
       "      <td>French Guiana</td>\n",
       "      <td>2025-02-08</td>\n",
       "    </tr>\n",
       "    <tr>\n",
       "      <th>105</th>\n",
       "      <td>1106</td>\n",
       "      <td>Carla Orozco</td>\n",
       "      <td>blairapril@hotmail.com</td>\n",
       "      <td>Portugal</td>\n",
       "      <td>2025-05-30</td>\n",
       "    </tr>\n",
       "    <tr>\n",
       "      <th>129</th>\n",
       "      <td>1130</td>\n",
       "      <td>Frances Wilson</td>\n",
       "      <td>rachel58@yahoo.com</td>\n",
       "      <td>Marshall Islands</td>\n",
       "      <td>2025-05-26</td>\n",
       "    </tr>\n",
       "    <tr>\n",
       "      <th>131</th>\n",
       "      <td>1132</td>\n",
       "      <td>Traci Forbes</td>\n",
       "      <td>dylansilva@bush.com</td>\n",
       "      <td>Nauru</td>\n",
       "      <td>2025-03-08</td>\n",
       "    </tr>\n",
       "    <tr>\n",
       "      <th>151</th>\n",
       "      <td>1152</td>\n",
       "      <td>Michelle Nelson</td>\n",
       "      <td>nicholasberry@flores.net</td>\n",
       "      <td>Botswana</td>\n",
       "      <td>2025-05-23</td>\n",
       "    </tr>\n",
       "    <tr>\n",
       "      <th>155</th>\n",
       "      <td>1156</td>\n",
       "      <td>Kelly Miller</td>\n",
       "      <td>shaheric@gmail.com</td>\n",
       "      <td>Grenada</td>\n",
       "      <td>2025-02-01</td>\n",
       "    </tr>\n",
       "    <tr>\n",
       "      <th>156</th>\n",
       "      <td>1157</td>\n",
       "      <td>Pamela Mcdonald</td>\n",
       "      <td>kcrawford@williams-vaughan.com</td>\n",
       "      <td>Tuvalu</td>\n",
       "      <td>2025-05-06</td>\n",
       "    </tr>\n",
       "    <tr>\n",
       "      <th>158</th>\n",
       "      <td>1159</td>\n",
       "      <td>Amanda Freeman</td>\n",
       "      <td>aaronbrown@gmail.com</td>\n",
       "      <td>Kenya</td>\n",
       "      <td>2025-04-24</td>\n",
       "    </tr>\n",
       "    <tr>\n",
       "      <th>170</th>\n",
       "      <td>1171</td>\n",
       "      <td>William Bailey</td>\n",
       "      <td>stevenedwards@hill.com</td>\n",
       "      <td>Belize</td>\n",
       "      <td>2025-04-02</td>\n",
       "    </tr>\n",
       "    <tr>\n",
       "      <th>174</th>\n",
       "      <td>1175</td>\n",
       "      <td>Margaret Adams</td>\n",
       "      <td>tiffany40@hotmail.com</td>\n",
       "      <td>Egypt</td>\n",
       "      <td>2025-05-22</td>\n",
       "    </tr>\n",
       "    <tr>\n",
       "      <th>181</th>\n",
       "      <td>1182</td>\n",
       "      <td>Joseph Garcia</td>\n",
       "      <td>nolanpatricia@nixon.biz</td>\n",
       "      <td>Korea</td>\n",
       "      <td>2025-04-24</td>\n",
       "    </tr>\n",
       "    <tr>\n",
       "      <th>193</th>\n",
       "      <td>1194</td>\n",
       "      <td>Gary Hendricks</td>\n",
       "      <td>morgandevon@burgess.com</td>\n",
       "      <td>Faroe Islands</td>\n",
       "      <td>2025-03-11</td>\n",
       "    </tr>\n",
       "    <tr>\n",
       "      <th>197</th>\n",
       "      <td>1198</td>\n",
       "      <td>Emily Weiss</td>\n",
       "      <td>vschneider@williams.com</td>\n",
       "      <td>Australia</td>\n",
       "      <td>2024-12-28</td>\n",
       "    </tr>\n",
       "  </tbody>\n",
       "</table>\n",
       "</div>"
      ],
      "text/plain": [
       "     customer_id              name                           email  \\\n",
       "31          1032  Bradley Robinson            ryanhoward@gmail.com   \n",
       "91          1092    Michael Bryant                dreed@nelson.com   \n",
       "93          1094     Melanie Gomez         meghan09@cunningham.com   \n",
       "105         1106      Carla Orozco          blairapril@hotmail.com   \n",
       "129         1130    Frances Wilson              rachel58@yahoo.com   \n",
       "131         1132      Traci Forbes             dylansilva@bush.com   \n",
       "151         1152   Michelle Nelson        nicholasberry@flores.net   \n",
       "155         1156      Kelly Miller              shaheric@gmail.com   \n",
       "156         1157   Pamela Mcdonald  kcrawford@williams-vaughan.com   \n",
       "158         1159    Amanda Freeman            aaronbrown@gmail.com   \n",
       "170         1171    William Bailey          stevenedwards@hill.com   \n",
       "174         1175    Margaret Adams           tiffany40@hotmail.com   \n",
       "181         1182     Joseph Garcia         nolanpatricia@nixon.biz   \n",
       "193         1194    Gary Hendricks         morgandevon@burgess.com   \n",
       "197         1198       Emily Weiss         vschneider@williams.com   \n",
       "\n",
       "              country signup_date  \n",
       "31          Swaziland  2025-06-06  \n",
       "91   Pitcairn Islands  2025-05-03  \n",
       "93      French Guiana  2025-02-08  \n",
       "105          Portugal  2025-05-30  \n",
       "129  Marshall Islands  2025-05-26  \n",
       "131             Nauru  2025-03-08  \n",
       "151          Botswana  2025-05-23  \n",
       "155           Grenada  2025-02-01  \n",
       "156            Tuvalu  2025-05-06  \n",
       "158             Kenya  2025-04-24  \n",
       "170            Belize  2025-04-02  \n",
       "174             Egypt  2025-05-22  \n",
       "181             Korea  2025-04-24  \n",
       "193     Faroe Islands  2025-03-11  \n",
       "197         Australia  2024-12-28  "
      ]
     },
     "execution_count": 67,
     "metadata": {},
     "output_type": "execute_result"
    }
   ],
   "source": [
    "#14. Customers who signed up in the last 6 months but didn’t buy\n",
    "from datetime import datetime\n",
    "cutoff_date = pd.Timestamp.now() - pd.DateOffset(months=6)\n",
    "\n",
    "recent_signups = customers_df[customers_df['signup_date'] >= cutoff_date]\n",
    "purchased_customers = merged_df['customer_id'].unique()\n",
    "\n",
    "inactive_recent = recent_signups[~recent_signups['customer_id'].isin(purchased_customers)]\n",
    "inactive_recent\n"
   ]
  },
  {
   "cell_type": "code",
   "execution_count": 68,
   "id": "e3ad185f",
   "metadata": {},
   "outputs": [
    {
     "name": "stdout",
     "output_type": "stream",
     "text": [
      "Low Performing Products (<10 sales):\n",
      "Series([], Name: quantity, dtype: int64)\n"
     ]
    }
   ],
   "source": [
    "#15. Products sold less than 10 times (low performers)\n",
    "total_sales = merged_df.groupby('product')['quantity'].sum()\n",
    "low_performers = total_sales[total_sales < 10]\n",
    "print(\"Low Performing Products (<10 sales):\")\n",
    "print(low_performers)"
   ]
  },
  {
   "cell_type": "code",
   "execution_count": 69,
   "id": "96191abf",
   "metadata": {},
   "outputs": [
    {
     "data": {
      "text/html": [
       "<div>\n",
       "<style scoped>\n",
       "    .dataframe tbody tr th:only-of-type {\n",
       "        vertical-align: middle;\n",
       "    }\n",
       "\n",
       "    .dataframe tbody tr th {\n",
       "        vertical-align: top;\n",
       "    }\n",
       "\n",
       "    .dataframe thead th {\n",
       "        text-align: right;\n",
       "    }\n",
       "</style>\n",
       "<table border=\"1\" class=\"dataframe\">\n",
       "  <thead>\n",
       "    <tr style=\"text-align: right;\">\n",
       "      <th></th>\n",
       "      <th></th>\n",
       "      <th>total_orders</th>\n",
       "      <th>total_items</th>\n",
       "      <th>total_spent</th>\n",
       "      <th>avg_order_value</th>\n",
       "    </tr>\n",
       "    <tr>\n",
       "      <th>customer_id</th>\n",
       "      <th>name</th>\n",
       "      <th></th>\n",
       "      <th></th>\n",
       "      <th></th>\n",
       "      <th></th>\n",
       "    </tr>\n",
       "  </thead>\n",
       "  <tbody>\n",
       "    <tr>\n",
       "      <th>1001</th>\n",
       "      <th>Norma Fisher</th>\n",
       "      <td>1</td>\n",
       "      <td>4</td>\n",
       "      <td>3159.96</td>\n",
       "      <td>3159.960000</td>\n",
       "    </tr>\n",
       "    <tr>\n",
       "      <th>1002</th>\n",
       "      <th>Susan Wagner</th>\n",
       "      <td>3</td>\n",
       "      <td>10</td>\n",
       "      <td>5364.93</td>\n",
       "      <td>1788.310000</td>\n",
       "    </tr>\n",
       "    <tr>\n",
       "      <th>1004</th>\n",
       "      <th>Joseph Brown</th>\n",
       "      <td>3</td>\n",
       "      <td>10</td>\n",
       "      <td>328.47</td>\n",
       "      <td>109.490000</td>\n",
       "    </tr>\n",
       "    <tr>\n",
       "      <th>1005</th>\n",
       "      <th>Amy Stark</th>\n",
       "      <td>3</td>\n",
       "      <td>9</td>\n",
       "      <td>1905.95</td>\n",
       "      <td>635.316667</td>\n",
       "    </tr>\n",
       "    <tr>\n",
       "      <th>1006</th>\n",
       "      <th>Juan Mann</th>\n",
       "      <td>2</td>\n",
       "      <td>6</td>\n",
       "      <td>1273.50</td>\n",
       "      <td>636.750000</td>\n",
       "    </tr>\n",
       "    <tr>\n",
       "      <th>...</th>\n",
       "      <th>...</th>\n",
       "      <td>...</td>\n",
       "      <td>...</td>\n",
       "      <td>...</td>\n",
       "      <td>...</td>\n",
       "    </tr>\n",
       "    <tr>\n",
       "      <th>1095</th>\n",
       "      <th>Johnny Powell</th>\n",
       "      <td>1</td>\n",
       "      <td>5</td>\n",
       "      <td>1497.45</td>\n",
       "      <td>1497.450000</td>\n",
       "    </tr>\n",
       "    <tr>\n",
       "      <th>1096</th>\n",
       "      <th>Adam Griffith</th>\n",
       "      <td>3</td>\n",
       "      <td>6</td>\n",
       "      <td>1325.48</td>\n",
       "      <td>441.826667</td>\n",
       "    </tr>\n",
       "    <tr>\n",
       "      <th>1097</th>\n",
       "      <th>Amy Fowler</th>\n",
       "      <td>2</td>\n",
       "      <td>4</td>\n",
       "      <td>118.97</td>\n",
       "      <td>59.485000</td>\n",
       "    </tr>\n",
       "    <tr>\n",
       "      <th>1099</th>\n",
       "      <th>Andrew Gaines</th>\n",
       "      <td>1</td>\n",
       "      <td>1</td>\n",
       "      <td>49.99</td>\n",
       "      <td>49.990000</td>\n",
       "    </tr>\n",
       "    <tr>\n",
       "      <th>1100</th>\n",
       "      <th>Nicholas Wright PhD</th>\n",
       "      <td>8</td>\n",
       "      <td>25</td>\n",
       "      <td>8003.79</td>\n",
       "      <td>1000.473750</td>\n",
       "    </tr>\n",
       "  </tbody>\n",
       "</table>\n",
       "<p>86 rows × 4 columns</p>\n",
       "</div>"
      ],
      "text/plain": [
       "                                 total_orders  total_items  total_spent  \\\n",
       "customer_id name                                                          \n",
       "1001        Norma Fisher                    1            4      3159.96   \n",
       "1002        Susan Wagner                    3           10      5364.93   \n",
       "1004        Joseph Brown                    3           10       328.47   \n",
       "1005        Amy Stark                       3            9      1905.95   \n",
       "1006        Juan Mann                       2            6      1273.50   \n",
       "...                                       ...          ...          ...   \n",
       "1095        Johnny Powell                   1            5      1497.45   \n",
       "1096        Adam Griffith                   3            6      1325.48   \n",
       "1097        Amy Fowler                      2            4       118.97   \n",
       "1099        Andrew Gaines                   1            1        49.99   \n",
       "1100        Nicholas Wright PhD             8           25      8003.79   \n",
       "\n",
       "                                 avg_order_value  \n",
       "customer_id name                                  \n",
       "1001        Norma Fisher             3159.960000  \n",
       "1002        Susan Wagner             1788.310000  \n",
       "1004        Joseph Brown              109.490000  \n",
       "1005        Amy Stark                 635.316667  \n",
       "1006        Juan Mann                 636.750000  \n",
       "...                                          ...  \n",
       "1095        Johnny Powell            1497.450000  \n",
       "1096        Adam Griffith             441.826667  \n",
       "1097        Amy Fowler                 59.485000  \n",
       "1099        Andrew Gaines              49.990000  \n",
       "1100        Nicholas Wright PhD      1000.473750  \n",
       "\n",
       "[86 rows x 4 columns]"
      ]
     },
     "execution_count": 69,
     "metadata": {},
     "output_type": "execute_result"
    }
   ],
   "source": [
    "# 16. Summary report per customer\n",
    "summary = merged_df.groupby(['customer_id', 'name']).agg(\n",
    "    total_orders=('order_id', 'nunique'),\n",
    "    total_items=('quantity', 'sum'),\n",
    "    total_spent=('total_amount', 'sum')\n",
    ")\n",
    "summary['avg_order_value'] = summary['total_spent'] / summary['total_orders']\n",
    "summary\n"
   ]
  },
  {
   "cell_type": "code",
   "execution_count": 70,
   "id": "ccd68a21",
   "metadata": {},
   "outputs": [
    {
     "name": "stdout",
     "output_type": "stream",
     "text": [
      "\n",
      "Applied discount to Electronics category:\n",
      "   product     category  total_amount  discounted_amount\n",
      "0   Tablet  Electronics       1596.00           1436.400\n",
      "1   Laptop  Electronics       3159.96           2843.964\n",
      "2  Charger  Accessories        127.50            127.500\n",
      "3  Monitor  Electronics       1497.45           1347.705\n",
      "4   Tablet  Electronics       1596.00           1436.400\n"
     ]
    }
   ],
   "source": [
    "#17. NumPy discount: Apply 10% discount to Electronics\n",
    "merged_df['discounted_amount'] = np.where(\n",
    "    merged_df['category'] == 'Electronics',\n",
    "    merged_df['total_amount'] * 0.90,\n",
    "    merged_df['total_amount']\n",
    ")\n",
    "print(\"\\nApplied discount to Electronics category:\")\n",
    "print(merged_df[['product', 'category', 'total_amount', 'discounted_amount']].head())"
   ]
  }
 ],
 "metadata": {
  "kernelspec": {
   "display_name": "Python 3",
   "language": "python",
   "name": "python3"
  },
  "language_info": {
   "codemirror_mode": {
    "name": "ipython",
    "version": 3
   },
   "file_extension": ".py",
   "mimetype": "text/x-python",
   "name": "python",
   "nbconvert_exporter": "python",
   "pygments_lexer": "ipython3",
   "version": "3.10.11"
  }
 },
 "nbformat": 4,
 "nbformat_minor": 5
}
